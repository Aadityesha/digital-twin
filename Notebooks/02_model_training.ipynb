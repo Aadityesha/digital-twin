{
 "cells": [
  {
   "cell_type": "markdown",
   "id": "5d53e0d1",
   "metadata": {},
   "source": [
    "1. Setup + Spark Session"
   ]
  },
  {
   "cell_type": "code",
   "execution_count": 1,
   "id": "ccdafdec",
   "metadata": {},
   "outputs": [
    {
     "name": "stdout",
     "output_type": "stream",
     "text": [
      "✅ Spark session started\n"
     ]
    }
   ],
   "source": [
    "from pyspark.sql import SparkSession\n",
    "\n",
    "spark = SparkSession.builder \\\n",
    "    .appName(\"Comcast Digital Twin - Model Training\") \\\n",
    "    .getOrCreate()\n",
    "\n",
    "print(\"✅ Spark session started\")"
   ]
  },
  {
   "cell_type": "markdown",
   "id": "1d2bc44d",
   "metadata": {},
   "source": [
    " 2. Load Processed Data"
   ]
  },
  {
   "cell_type": "code",
   "execution_count": 2,
   "id": "85cb7f2e",
   "metadata": {},
   "outputs": [
    {
     "name": "stdout",
     "output_type": "stream",
     "text": [
      "root\n",
      " |-- node_id: string (nullable = true)\n",
      " |-- timestamp: timestamp (nullable = true)\n",
      " |-- cpu_usage: double (nullable = true)\n",
      " |-- latency: double (nullable = true)\n",
      " |-- throughput: double (nullable = true)\n",
      " |-- packet_loss: double (nullable = true)\n",
      " |-- temperature: double (nullable = true)\n",
      " |-- error_rate: double (nullable = true)\n",
      " |-- failure_label: integer (nullable = true)\n",
      " |-- hour: integer (nullable = true)\n",
      " |-- dayofweek: integer (nullable = true)\n",
      " |-- rolling_avg_cpu: double (nullable = true)\n",
      "\n",
      "+---------+--------------------+------------------+------------------+------------------+-------------------+------------------+-------------------+-------------+----+---------+------------------+\n",
      "|  node_id|           timestamp|         cpu_usage|           latency|        throughput|        packet_loss|       temperature|         error_rate|failure_label|hour|dayofweek|   rolling_avg_cpu|\n",
      "+---------+--------------------+------------------+------------------+------------------+-------------------+------------------+-------------------+-------------+----+---------+------------------+\n",
      "|NODE-1003|2025-04-12 23:59:...| 50.02481593765374|  21.6591040299042|101.23503628012007|  2.566320078256929| 56.05110909682706| 0.4537853286038497|            0|  23|        7| 50.02481593765374|\n",
      "|NODE-1003|2025-04-13 00:09:...|28.269947123474164|23.945312356127523|117.05233948009968|0.39983944403863936| 67.24175153104949| 0.7640413066567495|            0|   0|        1|39.147381530563955|\n",
      "|NODE-1003|2025-04-13 00:19:...|29.699479171430834| 18.17749061249175|107.89408611349108|  4.317775710044607|57.296096366549406|0.22443263454199402|            1|   0|        1| 35.99808074418625|\n",
      "|NODE-1003|2025-04-13 00:29:...| 27.66503899740855|30.597024441676353|110.22689215338899| 1.6990594814333304| 53.35914493422423|0.28787655140907403|            0|   0|        1| 33.91482030749182|\n",
      "|NODE-1003|2025-04-13 00:39:...|30.200629602339024|19.670453290324257|109.49906743796427| 0.8433028132256093| 52.57791922493623| 0.4942050286636924|            0|   0|        1|28.958773723663143|\n",
      "+---------+--------------------+------------------+------------------+------------------+-------------------+------------------+-------------------+-------------+----+---------+------------------+\n",
      "only showing top 5 rows\n",
      "\n"
     ]
    }
   ],
   "source": [
    "df = spark.read.csv(\"../data/processed_network_data.csv\", header=True, inferSchema=True)\n",
    "df.printSchema()\n",
    "df.show(5)"
   ]
  },
  {
   "cell_type": "markdown",
   "id": "38d22405",
   "metadata": {},
   "source": [
    "3. Define Feature Columns & Label"
   ]
  },
  {
   "cell_type": "code",
   "execution_count": 3,
   "id": "18d54de6",
   "metadata": {},
   "outputs": [
    {
     "name": "stdout",
     "output_type": "stream",
     "text": [
      "+--------------------+-------------+\n",
      "|            features|failure_label|\n",
      "+--------------------+-------------+\n",
      "|[50.0248159376537...|            0|\n",
      "|[28.2699471234741...|            0|\n",
      "|[29.6994791714308...|            1|\n",
      "|[27.6650389974085...|            0|\n",
      "|[30.2006296023390...|            0|\n",
      "+--------------------+-------------+\n",
      "only showing top 5 rows\n",
      "\n"
     ]
    }
   ],
   "source": [
    "from pyspark.ml.feature import VectorAssembler\n",
    "\n",
    "# Drop ID and timestamp columns\n",
    "feature_cols = [col for col in df.columns if col not in [\"node_id\", \"timestamp\", \"failure_label\"]]\n",
    "\n",
    "assembler = VectorAssembler(inputCols=feature_cols, outputCol=\"features\")\n",
    "df_vector = assembler.transform(df).select(\"features\", \"failure_label\")\n",
    "\n",
    "df_vector.show(5)"
   ]
  },
  {
   "cell_type": "markdown",
   "id": "a02d7dea",
   "metadata": {},
   "source": [
    "4. Train/Test Split"
   ]
  },
  {
   "cell_type": "code",
   "execution_count": 4,
   "id": "b1d774f3",
   "metadata": {},
   "outputs": [],
   "source": [
    "train_data, test_data = df_vector.randomSplit([0.8, 0.2], seed=42)"
   ]
  },
  {
   "cell_type": "markdown",
   "id": "fb47983c",
   "metadata": {},
   "source": [
    "5. Train Classifier: Random Forest"
   ]
  },
  {
   "cell_type": "code",
   "execution_count": 5,
   "id": "f0c0e607",
   "metadata": {},
   "outputs": [
    {
     "name": "stdout",
     "output_type": "stream",
     "text": [
      "✅ Model trained!\n"
     ]
    }
   ],
   "source": [
    "from pyspark.ml.classification import RandomForestClassifier\n",
    "\n",
    "rf = RandomForestClassifier(labelCol=\"failure_label\", featuresCol=\"features\", numTrees=100)\n",
    "model = rf.fit(train_data)\n",
    "\n",
    "print(\"✅ Model trained!\")"
   ]
  },
  {
   "cell_type": "markdown",
   "id": "b9f0b7e1",
   "metadata": {},
   "source": [
    "6. Evaluate the Model"
   ]
  },
  {
   "cell_type": "code",
   "execution_count": 6,
   "id": "32dc7cb2",
   "metadata": {},
   "outputs": [
    {
     "name": "stdout",
     "output_type": "stream",
     "text": [
      "🔍 ROC-AUC Score: 0.9981\n"
     ]
    }
   ],
   "source": [
    "from pyspark.ml.evaluation import BinaryClassificationEvaluator\n",
    "\n",
    "predictions = model.transform(test_data)\n",
    "\n",
    "evaluator = BinaryClassificationEvaluator(labelCol=\"failure_label\", metricName=\"areaUnderROC\")\n",
    "roc_auc = evaluator.evaluate(predictions)\n",
    "\n",
    "print(f\"🔍 ROC-AUC Score: {roc_auc:.4f}\")"
   ]
  },
  {
   "cell_type": "code",
   "execution_count": 7,
   "id": "11884f85",
   "metadata": {},
   "outputs": [
    {
     "name": "stdout",
     "output_type": "stream",
     "text": [
      "✅ Accuracy: 0.9809\n"
     ]
    }
   ],
   "source": [
    "from pyspark.ml.evaluation import MulticlassClassificationEvaluator\n",
    "\n",
    "acc_eval = MulticlassClassificationEvaluator(labelCol=\"failure_label\", metricName=\"accuracy\")\n",
    "accuracy = acc_eval.evaluate(predictions)\n",
    "\n",
    "print(f\"✅ Accuracy: {accuracy:.4f}\")"
   ]
  },
  {
   "cell_type": "markdown",
   "id": "f96c7613",
   "metadata": {},
   "source": [
    "Feature Importance"
   ]
  },
  {
   "cell_type": "code",
   "execution_count": 8,
   "id": "6931e9e4",
   "metadata": {},
   "outputs": [
    {
     "name": "stderr",
     "output_type": "stream",
     "text": [
      "c:\\Users\\aadit\\anaconda3\\Lib\\site-packages\\pandas\\core\\arrays\\masked.py:60: UserWarning: Pandas requires version '1.3.6' or newer of 'bottleneck' (version '1.3.5' currently installed).\n",
      "  from pandas.core import (\n"
     ]
    },
    {
     "data": {
      "image/png": "[encoded data removed]",
      "text/plain": [
       "<Figure size 1000x500 with 1 Axes>"
      ]
     },
     "metadata": {},
     "output_type": "display_data"
    }
   ],
   "source": [
    "import pandas as pd\n",
    "import matplotlib.pyplot as plt\n",
    "\n",
    "features = feature_cols\n",
    "importances = model.featureImportances.toArray()\n",
    "\n",
    "imp_df = pd.DataFrame({\"feature\": features, \"importance\": importances})\n",
    "imp_df.sort_values(\"importance\", ascending=False).plot(kind=\"bar\", x=\"feature\", y=\"importance\", figsize=(10, 5), title=\"Feature Importance\")\n",
    "plt.tight_layout()\n",
    "plt.show()"
   ]
  }
 ],
 "metadata": {
  "kernelspec": {
   "display_name": "Python 3",
   "language": "python",
   "name": "python3"
  },
  "language_info": {
   "codemirror_mode": {
    "name": "ipython",
    "version": 3
   },
   "file_extension": ".py",
   "mimetype": "text/x-python",
   "name": "python",
   "nbconvert_exporter": "python",
   "pygments_lexer": "ipython3",
   "version": "3.11.4"
  }
 },
 "nbformat": 4,
 "nbformat_minor": 5
}
